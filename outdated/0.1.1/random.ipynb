{
 "cells": [
  {
   "cell_type": "code",
   "execution_count": 305,
   "metadata": {
    "collapsed": false
   },
   "outputs": [],
   "source": [
    "import numpy as np\n",
    "from math import *\n",
    "import pandas as pd\n",
    "from pylab import *"
   ]
  },
  {
   "cell_type": "code",
   "execution_count": 306,
   "metadata": {
    "collapsed": true
   },
   "outputs": [],
   "source": [
    "points = float(254)\n",
    "modes = float(3)\n",
    "seed = 5"
   ]
  },
  {
   "cell_type": "code",
   "execution_count": 307,
   "metadata": {
    "collapsed": true
   },
   "outputs": [],
   "source": [
    "def f(a, b, k1, k2, x, y):\n",
    "    return a*cos(k1*x+k2*y) + b*sin(k1*x+k2*y)\n",
    "def fx(a, b, k1, k2, x, y):\n",
    "    return k1*(- a*sin(k1*x+k2*y) + b*cos(k1*x+k2&y) )\n",
    "def fy(a, b, k1, k2, x, y):\n",
    "    return k2*(- a*sin(k1*x+k2*y) + b*cos(k1*x+k2&y) )\n",
    "def fxx(a, b, k1, k2, x, y):\n",
    "    return k1*k1*(-a*cos(k1*x+k2*y) - b*sin(k1*x+k2&y))\n",
    "def fyy(a, b, k1, k2, x, y):\n",
    "    return k2*k2*(-a*cos(k1*x+k2*y) - b*sin(k1*x+k2&y))\n",
    "def fxy(a, b, k1, k2, x, y):\n",
    "    return k1*k2*(-a*cos(k1*x+k2*y) - b*sin(k1*x+k2&y))\n",
    "def fxxx(a, b, k1, k2, x, y):\n",
    "    return k1*k1*k1*(a*sin(k1*x+k2*y) - b*cos(k1*x+k2&y))\n",
    "def fyyy(a, b, k1, k2, x, y):\n",
    "    return k2*k2*k2*(a*sin(k1*x+k2*y) - b*cos(k1*x+k2&y))\n",
    "def fxyy(a, b, k1, k2, x, y):\n",
    "    return k1*k2*k2*(a*sin(k1*x+k2*y) - b*cos(k1*x+k2&y))\n",
    "def fyxx(a, b, k1, k2, x, y):\n",
    "    return k1*k1*k2*(a*sin(k1*x+k2*y) - b*cos(k1*x+k2&y))"
   ]
  },
  {
   "cell_type": "markdown",
   "metadata": {},
   "source": [
    "Пример для трёх гармоник"
   ]
  },
  {
   "cell_type": "code",
   "execution_count": 315,
   "metadata": {
    "collapsed": false
   },
   "outputs": [],
   "source": [
    "mu, sigma = 0.0, 1.0 \n",
    "\n",
    "a_coef = np.random.normal(mu, sigma, (2*int(points) + 1, int(points) + 1))\n",
    "b_coef = np.random.normal(mu, sigma, (2*int(points) + 1, int(points) + 1))"
   ]
  },
  {
   "cell_type": "code",
   "execution_count": 316,
   "metadata": {
    "collapsed": true
   },
   "outputs": [],
   "source": [
    "def P(k1, k2, K0):\n",
    "    if (k1 > K0) | (k2 > K0):\n",
    "        return 0\n",
    "    else:\n",
    "        return 1"
   ]
  },
  {
   "cell_type": "code",
   "execution_count": 317,
   "metadata": {
    "collapsed": false
   },
   "outputs": [],
   "source": [
    "def func (i, j, a_coef, b_coef, modes, N):\n",
    "    y = 0.0\n",
    "    for k1 in range(0, 2*int(modes)): \n",
    "        for k2 in range(0, int(modes)): \n",
    "            y = y + (a_coef[k1][k2]*cos(2*pi*(i*(k1 - int(modes))+j*k2)/N) + b_coef[k1][k2]*sin(2*pi*(i*(k1 - int(modes))+j*k2)/N))\n",
    "            #y = y + (a_coef[k1][k2]*cos(2*pi*(i*k1+j*k2)/N) + a_coef[k1][k2]*sin(2*pi*(i*k1+j*k2)/N))\n",
    "\n",
    "    return y\n",
    "#((float(k1 - int(modes)))**2-(float(k2))**2)**P(k1, k2, int(modes))*"
   ]
  },
  {
   "cell_type": "code",
   "execution_count": 318,
   "metadata": {
    "collapsed": false
   },
   "outputs": [],
   "source": [
    "file = open(\"f1.dat\", 'w')\n",
    "for j1 in xrange(0, int(points)):\n",
    "    for j2 in xrange (0, int(points)):\n",
    "        x = j1/(points)\n",
    "        y = j2/(points)\n",
    "        file.write('{}    {}    {}\\n'.format(y, x, func(j1, j2, a_coef, b_coef, int(modes), points)))\n",
    "file.close()"
   ]
  },
  {
   "cell_type": "code",
   "execution_count": 312,
   "metadata": {
    "collapsed": false
   },
   "outputs": [],
   "source": [
    "def func (i, j, a_coef, b_coef, modes, N):\n",
    "    y = 0.0\n",
    "    for k1 in range(0, 2*int(modes)): \n",
    "        for k2 in range(0, int(modes)): \n",
    "            y = y + (a_coef[k1][k2]*cos(2*pi*(i*(k1 - int(modes))+j*k2)/N) + b_coef[k1][k2]*sin(2*pi*(i*(k1 - int(modes))+j*k2)/N))\n",
    "            #y = y + (a_coef[k1][k2]*cos(2*pi*(i*k1+j*k2)/N) + a_coef[k1][k2]*sin(2*pi*(i*k1+j*k2)/N))\n",
    "    \n",
    "    return y\n",
    "#2*((float(k1 - int(modes)))*(float(k2)))*"
   ]
  },
  {
   "cell_type": "code",
   "execution_count": 319,
   "metadata": {
    "collapsed": true
   },
   "outputs": [],
   "source": [
    "mu, sigma = 0.0, 1.0 \n",
    "\n",
    "a_coef = np.random.normal(mu, sigma, (2*int(points) + 1, int(points) + 1))\n",
    "b_coef = np.random.normal(mu, sigma, (2*int(points) + 1, int(points) + 1))"
   ]
  },
  {
   "cell_type": "code",
   "execution_count": 320,
   "metadata": {
    "collapsed": false
   },
   "outputs": [],
   "source": [
    "file = open(\"f2.dat\", 'w')\n",
    "for j1 in xrange(0, int(points)):\n",
    "    for j2 in xrange (0, int(points)):\n",
    "        x = j1/(points)\n",
    "        y = j2/(points)\n",
    "        file.write('{}    {}    {}\\n'.format(y, x, func(j1, j2, a_coef, b_coef, int(modes), points)))\n",
    "file.close()"
   ]
  },
  {
   "cell_type": "markdown",
   "metadata": {},
   "source": [
    "np.fft.fft2(x, 4)"
   ]
  }
 ],
 "metadata": {
  "anaconda-cloud": {},
  "kernelspec": {
   "display_name": "Python [new2]",
   "language": "python",
   "name": "Python [new2]"
  },
  "language_info": {
   "codemirror_mode": {
    "name": "ipython",
    "version": 2
   },
   "file_extension": ".py",
   "mimetype": "text/x-python",
   "name": "python",
   "nbconvert_exporter": "python",
   "pygments_lexer": "ipython2",
   "version": "2.7.12"
  }
 },
 "nbformat": 4,
 "nbformat_minor": 0
}
