{
 "cells": [
  {
   "cell_type": "code",
   "execution_count": 1,
   "metadata": {
    "collapsed": false
   },
   "outputs": [],
   "source": [
    "from numpy import roots, random, real, imag\n",
    "from math import atan, fabs, pi, tan, cos, sin, sqrt\n",
    "import sympy\n",
    "from sympy import Symbol\n",
    "\n",
    "def cubic (Qx, Qy, Ux, Uy):\n",
    "    \n",
    "    a = Uy\n",
    "    b = (Ux + 2*Qy)\n",
    "    c = (2*Qx - Uy)\n",
    "    d = -Ux\n",
    "    \n",
    "    det = -4*b*b*b*d + b*b*c*c -4*a*c*c*c + 18*a*b*c*d - 27*a*a*d*d\n",
    "    \n",
    "    if (det < 0):\n",
    "        return 'c'\n",
    "        \n",
    "    \n",
    "    if (det > 0):\n",
    "        \n",
    "        a = roots([a, b, c, d])\n",
    "        a = a.real\n",
    "        a = [atan(a[0]), atan(a[1]), atan(a[2])]\n",
    "        \n",
    "        U = [Ux*cos(a[0]) + Uy*sin(a[0]), Ux*cos(a[1]) + Uy*sin(a[1]), Ux*cos(a[2]) + Uy*sin(a[2])]\n",
    "        rightU = [2*sin(a[0])*cos(a[0]), 2*sin(a[1])*cos(a[1]), 2*sin(a[2])*cos(a[2])]\n",
    "    \n",
    "        for i in range(0, 3):\n",
    "            if (U[i] * rightU[i] < 0):\n",
    "                a[i] = a[i] + pi\n",
    "        \n",
    "        a = sorted(a)\n",
    "        a = [a[0] - a[0], a[1] - a[0], a[2] - a[0]]\n",
    "        \n",
    "        #print a\n",
    "        \n",
    "        if (a[2] > pi):\n",
    "            return 'a'\n",
    "        else:\n",
    "            return 'b'"
   ]
  },
  {
   "cell_type": "code",
   "execution_count": 2,
   "metadata": {
    "collapsed": false
   },
   "outputs": [],
   "source": [
    "mu, sigma = 0, 1"
   ]
  },
  {
   "cell_type": "code",
   "execution_count": 9,
   "metadata": {
    "collapsed": false
   },
   "outputs": [],
   "source": [
    "Ux = random.normal(mu, sigma, 1000000)\n",
    "Uy = random.normal(mu, sigma, 1000000)\n",
    "Qx = random.normal(mu, sigma, 1000000)\n",
    "Qy = random.normal(mu, sigma, 1000000)"
   ]
  },
  {
   "cell_type": "code",
   "execution_count": 4,
   "metadata": {
    "collapsed": false
   },
   "outputs": [
    {
     "name": "stdout",
     "output_type": "stream",
     "text": [
      "0.527 0.09225 0.38075\n"
     ]
    }
   ],
   "source": [
    "a, b, c = 0, 0, 0\n",
    "\n",
    "for i in range(0, 100000):\n",
    "    ch = ''\n",
    "    ch = cubic(Qx[i], Qy[i], Ux[i], Uy[i])\n",
    "    if (ch == 'a'):\n",
    "        a = a + 1\n",
    "    if (ch == 'b'):\n",
    "        b = b + 1\n",
    "    if (ch == 'c'):\n",
    "        c = c + 1\n",
    "        \n",
    "print a/100000.0, b/100000.0, c/100000.0"
   ]
  },
  {
   "cell_type": "code",
   "execution_count": 5,
   "metadata": {
    "collapsed": true
   },
   "outputs": [],
   "source": [
    "def cubic_solver (Qx, Qy, Ux, Uy):\n",
    "    \n",
    "    a = (Uy)\n",
    "    b = (Ux + 2*Qy)\n",
    "    c = (2*Qx - Uy)\n",
    "    d = (-Ux)\n",
    "    \n",
    "    return (roots([a, b, c, d]))"
   ]
  },
  {
   "cell_type": "code",
   "execution_count": 10,
   "metadata": {
    "collapsed": false
   },
   "outputs": [
    {
     "name": "stdout",
     "output_type": "stream",
     "text": [
      "0.5 0.5\n"
     ]
    }
   ],
   "source": [
    "# Another test\n",
    "saddles, beaks, comets = 0, 0, 0\n",
    "\n",
    "for i in range(0, 1000):\n",
    "    \n",
    "    root1, root2, root3 = cubic_solver(Qx[i], Qy[i]+0*i, Ux[i]+0*i, Uy[i]+0*i)\n",
    "    \n",
    "    if (Qx[i]*Uy[i] - Qy[i]*Ux[i] > 0):\n",
    "        saddles = saddles + 1\n",
    "    elif (imag(root1) == 0 and imag(root2) == 0 and imag(root3) == 0):\n",
    "        beaks = beaks + 1\n",
    "        \n",
    "print saddles/1000.0, beaks/1000.0"
   ]
  },
  {
   "cell_type": "code",
   "execution_count": null,
   "metadata": {
    "collapsed": true
   },
   "outputs": [],
   "source": []
  }
 ],
 "metadata": {
  "anaconda-cloud": {},
  "kernelspec": {
   "display_name": "Python [new2]",
   "language": "python",
   "name": "Python [new2]"
  },
  "language_info": {
   "codemirror_mode": {
    "name": "ipython",
    "version": 2
   },
   "file_extension": ".py",
   "mimetype": "text/x-python",
   "name": "python",
   "nbconvert_exporter": "python",
   "pygments_lexer": "ipython2",
   "version": "2.7.12"
  }
 },
 "nbformat": 4,
 "nbformat_minor": 0
}
