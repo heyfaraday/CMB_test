{
 "cells": [
  {
   "cell_type": "code",
   "execution_count": null,
   "metadata": {
    "collapsed": true
   },
   "outputs": [],
   "source": [
    "# latest version at ../0.4"
   ]
  },
  {
   "cell_type": "code",
   "execution_count": null,
   "metadata": {
    "collapsed": true
   },
   "outputs": [],
   "source": [
    "from pylab import *\n",
    "import copy"
   ]
  },
  {
   "cell_type": "code",
   "execution_count": null,
   "metadata": {
    "collapsed": true
   },
   "outputs": [],
   "source": [
    "x,y,z = genfromtxt('f1.dat').T\n",
    "N = int(sqrt(x.shape[0]))"
   ]
  },
  {
   "cell_type": "code",
   "execution_count": null,
   "metadata": {
    "collapsed": true
   },
   "outputs": [],
   "source": [
    "x = x.reshape(N, N)\n",
    "y = y.reshape(N, N)\n",
    "z = z.reshape(N, N)\n",
    "mark1 = copy.deepcopy(z)\n",
    "mark2 = copy.deepcopy(z)\n",
    "cell1 = copy.deepcopy(z)"
   ]
  },
  {
   "cell_type": "code",
   "execution_count": null,
   "metadata": {
    "collapsed": true
   },
   "outputs": [],
   "source": [
    "for i in range (0, N-1):\n",
    "    z_point = z[i] * z[i+1]\n",
    "    for j in range (0, N):\n",
    "        if (z_point[j] < 0) :\n",
    "            mark1[i][j] = 1.0\n",
    "        else:\n",
    "            mark1[i][j] = 0.0"
   ]
  },
  {
   "cell_type": "code",
   "execution_count": null,
   "metadata": {
    "collapsed": true
   },
   "outputs": [],
   "source": [
    "z = z.T\n",
    "x = x.T\n",
    "y = y.T"
   ]
  },
  {
   "cell_type": "code",
   "execution_count": null,
   "metadata": {
    "collapsed": true
   },
   "outputs": [],
   "source": [
    "for i in range (0, N-1):\n",
    "    z_point = z[i] * z[i+1]\n",
    "    for j in range (0, N):\n",
    "        if (z_point[j] < 0) :\n",
    "            mark2[j][i] = 1.0\n",
    "        else:\n",
    "            mark2[j][i] = 0.0"
   ]
  },
  {
   "cell_type": "code",
   "execution_count": null,
   "metadata": {
    "collapsed": false
   },
   "outputs": [],
   "source": [
    "print mark1[0][226] + mark1[0][227] + mark2[0][226] + mark2[1][226]"
   ]
  },
  {
   "cell_type": "code",
   "execution_count": null,
   "metadata": {
    "collapsed": true
   },
   "outputs": [],
   "source": [
    "for i in range (0, N-1):\n",
    "    for j in range (0, N-):\n",
    "        cell1[i][j] = mark1[i][j] + mark1[i][j+1] + mark2[i][j] + mark2[i+1][j]"
   ]
  },
  {
   "cell_type": "code",
   "execution_count": null,
   "metadata": {
    "collapsed": true
   },
   "outputs": [],
   "source": [
    "x,y,z = genfromtxt('f2.dat').T\n",
    "N = int(sqrt(x.shape[0]))"
   ]
  },
  {
   "cell_type": "code",
   "execution_count": null,
   "metadata": {
    "collapsed": true
   },
   "outputs": [],
   "source": [
    "x = x.reshape(N, N)\n",
    "y = y.reshape(N, N)\n",
    "z = z.reshape(N, N)\n",
    "mark1 = copy.deepcopy(z)\n",
    "mark2 = copy.deepcopy(z)\n",
    "cell2 = copy.deepcopy(z)"
   ]
  },
  {
   "cell_type": "code",
   "execution_count": null,
   "metadata": {
    "collapsed": true
   },
   "outputs": [],
   "source": [
    "for i in range (0, N-1):\n",
    "    z_point = z[i] * z[i+1]\n",
    "    for j in range (0, N-1):\n",
    "        if (z_point[j] < 0) :\n",
    "            mark2[j][i] = 1.0\n",
    "        else:\n",
    "            mark2[j][i] = 0.0"
   ]
  },
  {
   "cell_type": "code",
   "execution_count": null,
   "metadata": {
    "collapsed": true
   },
   "outputs": [],
   "source": [
    "z = z.T\n",
    "x = x.T\n",
    "y = y.T"
   ]
  },
  {
   "cell_type": "code",
   "execution_count": null,
   "metadata": {
    "collapsed": true
   },
   "outputs": [],
   "source": [
    "for i in range (0, N-1):\n",
    "    z_point = z[i] * z[i+1]\n",
    "    for j in range (0, N):\n",
    "        if (z_point[j] < 0) :\n",
    "            mark2[j][i] = 1.0\n",
    "        else:\n",
    "            mark2[j][i] = 0.0"
   ]
  },
  {
   "cell_type": "code",
   "execution_count": null,
   "metadata": {
    "collapsed": false
   },
   "outputs": [],
   "source": [
    "for i in range (0, N-1):\n",
    "    for j in range (0, N-1):\n",
    "        cell2[i][j] = mark1[i][j] + mark1[i][j+1] + mark2[i][j] + mark2[i+1][j]"
   ]
  },
  {
   "cell_type": "code",
   "execution_count": null,
   "metadata": {
    "collapsed": false
   },
   "outputs": [],
   "source": [
    "cell = cell1*cell2"
   ]
  },
  {
   "cell_type": "code",
   "execution_count": null,
   "metadata": {
    "collapsed": true
   },
   "outputs": [],
   "source": [
    "for i in range (0, N-1):\n",
    "    for j in range (0, N-1):\n",
    "        if (cell[i][j] != 0):\n",
    "            print i, j"
   ]
  }
 ],
 "metadata": {
  "anaconda-cloud": {},
  "kernelspec": {
   "display_name": "Python [new2]",
   "language": "python",
   "name": "Python [new2]"
  },
  "language_info": {
   "codemirror_mode": {
    "name": "ipython",
    "version": 2
   },
   "file_extension": ".py",
   "mimetype": "text/x-python",
   "name": "python",
   "nbconvert_exporter": "python",
   "pygments_lexer": "ipython2",
   "version": "2.7.12"
  }
 },
 "nbformat": 4,
 "nbformat_minor": 0
}
