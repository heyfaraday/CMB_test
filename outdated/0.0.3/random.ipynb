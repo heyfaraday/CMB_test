{
 "cells": [
  {
   "cell_type": "code",
   "execution_count": null,
   "metadata": {
    "collapsed": true
   },
   "outputs": [],
   "source": [
    "# Code doesn't work"
   ]
  },
  {
   "cell_type": "code",
   "execution_count": 1,
   "metadata": {
    "collapsed": false
   },
   "outputs": [],
   "source": [
    "import random\n",
    "from math import *\n",
    "import pandas as pd"
   ]
  },
  {
   "cell_type": "code",
   "execution_count": 2,
   "metadata": {
    "collapsed": true
   },
   "outputs": [],
   "source": [
    "points = float(256)\n",
    "modes = float(3)\n",
    "seed = 5"
   ]
  },
  {
   "cell_type": "code",
   "execution_count": 3,
   "metadata": {
    "collapsed": false
   },
   "outputs": [],
   "source": [
    "random.seed(seed)"
   ]
  },
  {
   "cell_type": "markdown",
   "metadata": {},
   "source": [
    "Пример для трёх гармоник"
   ]
  },
  {
   "cell_type": "code",
   "execution_count": 4,
   "metadata": {
    "collapsed": false
   },
   "outputs": [],
   "source": [
    "a_coef = [[random.random(), random.random(), random.random()],\n",
    "     [random.random(), random.random(), random.random()],\n",
    "     [random.random(), random.random(), random.random()]]\n",
    "b_coef =  [[random.random(), random.random(), random.random()],\n",
    "     [random.random(), random.random(), random.random()],\n",
    "     [random.random(), random.random(), random.random()]]"
   ]
  },
  {
   "cell_type": "code",
   "execution_count": 9,
   "metadata": {
    "collapsed": false
   },
   "outputs": [],
   "source": [
    "def f(a, b, k1, k2, x, y):\n",
    "    return a*cos(k1*x+k2*y) + b*sin(k1*x+k2*y)\n",
    "def fx(a, b, k1, k2, x, y):\n",
    "    return k1*(- a*sin(k1*x+k2*y) + b*cos(k1*x+k2&y) )\n",
    "def fy(a, b, k1, k2, x, y):\n",
    "    return k2*(- a*sin(k1*x+k2*y) + b*cos(k1*x+k2&y) )\n",
    "def fxx(a, b, k1, k2, x, y):\n",
    "    return k1*k1*(-a*cos(k1*x+k2*y) - b*sin(k1*x+k2&y))\n",
    "def fyy(a, b, k1, k2, x, y):\n",
    "    return k2*k2*(-a*cos(k1*x+k2*y) - b*sin(k1*x+k2&y))\n",
    "def fxy(a, b, k1, k2, x, y):\n",
    "    return k1*k2*(-a*cos(k1*x+k2*y) - b*sin(k1*x+k2&y))\n",
    "def fxxx(a, b, k1, k2, x, y):\n",
    "    return k1*k1*k1*(a*sin(k1*x+k2*y) - b*cos(k1*x+k2&y))\n",
    "def fyyy(a, b, k1, k2, x, y):\n",
    "    return k2*k2*k2*(a*sin(k1*x+k2*y) - b*cos(k1*x+k2&y))\n",
    "def fxyy(a, b, k1, k2, x, y):\n",
    "    return k1*k2*k2*(a*sin(k1*x+k2*y) - b*cos(k1*x+k2&y))\n",
    "def fyxx(a, b, k1, k2, x, y):\n",
    "    return k1*k1*k2*(a*sin(k1*x+k2*y) - b*cos(k1*x+k2&y))"
   ]
  },
  {
   "cell_type": "code",
   "execution_count": null,
   "metadata": {
    "collapsed": true
   },
   "outputs": [],
   "source": [
    "d = pd.DataFrame()\n",
    "for j1 in range(0, int(points-1)):\n",
    "    for j2 in range (0, int(points-1)):\n",
    "        fx_ = 0.0\n",
    "        x = j1/(points-1)\n",
    "        y = j2/(points-1)\n",
    "        for k1 in range (0, int(modes)-1):\n",
    "            for k2 in range (0, int(modes)-1):\n",
    "                fx_ = fx_ + f(a_coef[k1][k2], b_coef[k1][k2], k1, k2, x, y)\n",
    "                d = d.append([x, y, fx_])"
   ]
  },
  {
   "cell_type": "code",
   "execution_count": null,
   "metadata": {
    "collapsed": true
   },
   "outputs": [],
   "source": [
    "np.savetxt(\"foo.dat\", d, delimiter=\"    \")"
   ]
  }
 ],
 "metadata": {
  "anaconda-cloud": {},
  "kernelspec": {
   "display_name": "Python [new2]",
   "language": "python",
   "name": "Python [new2]"
  },
  "language_info": {
   "codemirror_mode": {
    "name": "ipython",
    "version": 2
   },
   "file_extension": ".py",
   "mimetype": "text/x-python",
   "name": "python",
   "nbconvert_exporter": "python",
   "pygments_lexer": "ipython2",
   "version": "2.7.12"
  }
 },
 "nbformat": 4,
 "nbformat_minor": 0
}
