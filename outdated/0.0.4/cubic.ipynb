{
 "cells": [
  {
   "cell_type": "code",
   "execution_count": 24,
   "metadata": {
    "collapsed": true
   },
   "outputs": [],
   "source": [
    "from numpy import roots\n",
    "from math import atan, fabs"
   ]
  },
  {
   "cell_type": "code",
   "execution_count": 34,
   "metadata": {
    "collapsed": false
   },
   "outputs": [],
   "source": [
    "def cubic (Qx, Qy, Ux, Uy):\n",
    "    \n",
    "    a = Uy\n",
    "    b = (Ux + 2*Qy)\n",
    "    c = (2*Qx - Uy)\n",
    "    d = -Ux\n",
    "    \n",
    "    det = -4*b**3*d + b**2*c**2 -4*a*c**3 + 18*a*b*c*d - 27*a**2*d**2\n",
    "    \n",
    "    print det\n",
    "    \n",
    "    if (det < 0):\n",
    "        answer = 'c'\n",
    "        print answer\n",
    "        \n",
    "    if (det > 0):\n",
    "        a = roots([a, b, c, d])\n",
    "        a = a.real\n",
    "        print a\n",
    "        a = atan(a[0])/(fabs(atan(a[0]))) + atan(a[1])/(fabs(atan(a[1]))) + atan(a[2])/(fabs(atan(a[2])))\n",
    "        \n",
    "        if (a == 3.0):\n",
    "            answer = 'b'\n",
    "        if (a == 1.0):\n",
    "            answer = 'b'\n",
    "        if (a == -1.0):\n",
    "            answer = 'a'\n",
    "        print answer\n",
    "        \n",
    "    #return answer"
   ]
  },
  {
   "cell_type": "code",
   "execution_count": null,
   "metadata": {
    "collapsed": true
   },
   "outputs": [],
   "source": []
  }
 ],
 "metadata": {
  "anaconda-cloud": {},
  "kernelspec": {
   "display_name": "Python [new2]",
   "language": "python",
   "name": "Python [new2]"
  },
  "language_info": {
   "codemirror_mode": {
    "name": "ipython",
    "version": 2
   },
   "file_extension": ".py",
   "mimetype": "text/x-python",
   "name": "python",
   "nbconvert_exporter": "python",
   "pygments_lexer": "ipython2",
   "version": "2.7.12"
  }
 },
 "nbformat": 4,
 "nbformat_minor": 0
}
