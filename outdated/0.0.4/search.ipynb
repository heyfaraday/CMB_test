{
 "cells": [
  {
   "cell_type": "markdown",
   "metadata": {},
   "source": [
    "#### Необходимое условие"
   ]
  },
  {
   "cell_type": "code",
   "execution_count": 54,
   "metadata": {
    "collapsed": true
   },
   "outputs": [],
   "source": [
    "from pylab import *\n",
    "import copy"
   ]
  },
  {
   "cell_type": "code",
   "execution_count": 2,
   "metadata": {
    "collapsed": true
   },
   "outputs": [],
   "source": [
    "x,y,z = genfromtxt('f1.dat').T\n",
    "N = int(sqrt(x.shape[0]))"
   ]
  },
  {
   "cell_type": "code",
   "execution_count": 3,
   "metadata": {
    "collapsed": true
   },
   "outputs": [],
   "source": [
    "x = x.reshape(N, N)\n",
    "y = y.reshape(N, N)\n",
    "z = z.reshape(N, N)\n",
    "mark1 = copy.deepcopy(z)\n",
    "mark2 = copy.deepcopy(z)"
   ]
  },
  {
   "cell_type": "code",
   "execution_count": 4,
   "metadata": {
    "collapsed": false
   },
   "outputs": [],
   "source": [
    "for i in range (0, N-1):\n",
    "    z_point = z[i] * z[i+1]\n",
    "    for j in range (0, N):\n",
    "        if (z_point[j] < 0) :\n",
    "            mark1[i][j] = 1.0\n",
    "        else:\n",
    "            mark1[i][j] = 0.0\n",
    "mark1[253] = mark1[253] * 0.0"
   ]
  },
  {
   "cell_type": "code",
   "execution_count": 5,
   "metadata": {
    "collapsed": true
   },
   "outputs": [],
   "source": [
    "z = z.T\n",
    "x = x.T\n",
    "y = y.T"
   ]
  },
  {
   "cell_type": "code",
   "execution_count": 6,
   "metadata": {
    "collapsed": false
   },
   "outputs": [],
   "source": [
    "for i in range (0, N-1):\n",
    "    z_point = z[i] * z[i+1]\n",
    "    for j in range (0, N):\n",
    "        if (z_point[j] < 0) :\n",
    "            mark2[i][j] = 1.0\n",
    "        else:\n",
    "            mark2[i][j] = 0.0"
   ]
  },
  {
   "cell_type": "code",
   "execution_count": 7,
   "metadata": {
    "collapsed": false
   },
   "outputs": [],
   "source": [
    "mark2[253] = mark2[253] * 0.0"
   ]
  },
  {
   "cell_type": "code",
   "execution_count": 8,
   "metadata": {
    "collapsed": true
   },
   "outputs": [],
   "source": [
    "mark2 = mark2.T"
   ]
  },
  {
   "cell_type": "code",
   "execution_count": 9,
   "metadata": {
    "collapsed": false
   },
   "outputs": [
    {
     "name": "stdout",
     "output_type": "stream",
     "text": [
      "0.0\n"
     ]
    }
   ],
   "source": [
    "print mark1[0][226] + mark1[0][227] + mark2[0][226] + mark2[1][226]"
   ]
  },
  {
   "cell_type": "code",
   "execution_count": 10,
   "metadata": {
    "collapsed": true
   },
   "outputs": [],
   "source": [
    "cell1 = copy.deepcopy(mark1)"
   ]
  },
  {
   "cell_type": "code",
   "execution_count": 11,
   "metadata": {
    "collapsed": false
   },
   "outputs": [],
   "source": [
    "for i in range (0, N-1):\n",
    "    for j in range (0, N-1):\n",
    "        cell1[i][j] = mark1[i][j] + mark1[i][j+1] + mark2[i][j] + mark2[i+1][j]"
   ]
  },
  {
   "cell_type": "code",
   "execution_count": 12,
   "metadata": {
    "collapsed": true
   },
   "outputs": [],
   "source": [
    "x,y,z = genfromtxt('f2.dat').T\n",
    "N = int(sqrt(x.shape[0]))"
   ]
  },
  {
   "cell_type": "code",
   "execution_count": 13,
   "metadata": {
    "collapsed": true
   },
   "outputs": [],
   "source": [
    "x = x.reshape(N, N)\n",
    "y = y.reshape(N, N)\n",
    "z = z.reshape(N, N)\n",
    "mark1 = copy.deepcopy(z)\n",
    "mark2 = copy.deepcopy(z)\n",
    "cell2 = copy.deepcopy(z)"
   ]
  },
  {
   "cell_type": "code",
   "execution_count": 14,
   "metadata": {
    "collapsed": true
   },
   "outputs": [],
   "source": [
    "for i in range (0, N-1):\n",
    "    z_point = z[i] * z[i+1]\n",
    "    for j in range (0, N):\n",
    "        if (z_point[j] < 0) :\n",
    "            mark1[i][j] = 1.0\n",
    "        else:\n",
    "            mark1[i][j] = 0.0\n",
    "mark1[253] = mark1[253] * 0.0"
   ]
  },
  {
   "cell_type": "code",
   "execution_count": 15,
   "metadata": {
    "collapsed": true
   },
   "outputs": [],
   "source": [
    "z = z.T\n",
    "x = x.T\n",
    "y = y.T"
   ]
  },
  {
   "cell_type": "code",
   "execution_count": 16,
   "metadata": {
    "collapsed": true
   },
   "outputs": [],
   "source": [
    "for i in range (0, N-1):\n",
    "    z_point = z[i] * z[i+1]\n",
    "    for j in range (0, N):\n",
    "        if (z_point[j] < 0) :\n",
    "            mark2[i][j] = 1.0\n",
    "        else:\n",
    "            mark2[i][j] = 0.0"
   ]
  },
  {
   "cell_type": "code",
   "execution_count": 17,
   "metadata": {
    "collapsed": true
   },
   "outputs": [],
   "source": [
    "mark2[253] = mark2[253] * 0.0"
   ]
  },
  {
   "cell_type": "code",
   "execution_count": 18,
   "metadata": {
    "collapsed": true
   },
   "outputs": [],
   "source": [
    "mark2 = mark2.T"
   ]
  },
  {
   "cell_type": "code",
   "execution_count": 19,
   "metadata": {
    "collapsed": true
   },
   "outputs": [],
   "source": [
    "cell2 = copy.deepcopy(mark1)"
   ]
  },
  {
   "cell_type": "code",
   "execution_count": 20,
   "metadata": {
    "collapsed": false
   },
   "outputs": [],
   "source": [
    "for i in range (0, N-1):\n",
    "    for j in range (0, N-1):\n",
    "        cell2[i][j] = mark1[i][j] + mark1[i][j+1] + mark2[i][j] + mark2[i+1][j]"
   ]
  },
  {
   "cell_type": "code",
   "execution_count": 21,
   "metadata": {
    "collapsed": true
   },
   "outputs": [],
   "source": [
    "cell = cell1*cell2"
   ]
  },
  {
   "cell_type": "code",
   "execution_count": 77,
   "metadata": {
    "collapsed": false
   },
   "outputs": [],
   "source": [
    "answer_x = []\n",
    "answer_y = []"
   ]
  },
  {
   "cell_type": "code",
   "execution_count": 78,
   "metadata": {
    "collapsed": false
   },
   "outputs": [],
   "source": [
    "for i in range (0, N-1):\n",
    "    for j in range (0, N-1):\n",
    "        if (cell[i][j] != 0): #& (cell[i][j] != 4):\n",
    "            answer_x.append(i)\n",
    "            answer_y.append(j)"
   ]
  }
 ],
 "metadata": {
  "anaconda-cloud": {},
  "kernelspec": {
   "display_name": "Python [new2]",
   "language": "python",
   "name": "Python [new2]"
  },
  "language_info": {
   "codemirror_mode": {
    "name": "ipython",
    "version": 2
   },
   "file_extension": ".py",
   "mimetype": "text/x-python",
   "name": "python",
   "nbconvert_exporter": "python",
   "pygments_lexer": "ipython2",
   "version": "2.7.12"
  }
 },
 "nbformat": 4,
 "nbformat_minor": 0
}
