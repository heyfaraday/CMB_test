{
 "cells": [
  {
   "cell_type": "code",
   "execution_count": 382,
   "metadata": {
    "collapsed": false
   },
   "outputs": [],
   "source": [
    "from numpy import roots, random, array, linspace\n",
    "from numpy import fabs as fb\n",
    "from math import atan, fabs, pi, tan, cos, sin, sqrt, tan\n",
    "import sympy\n",
    "from sympy import Symbol\n",
    "\n",
    "def cubic (Qx, Qy, Ux, Uy):\n",
    "    \n",
    "    a = Uy\n",
    "    b = (Ux + 2*Qy)\n",
    "    c = (2*Qx - Uy)\n",
    "    d = -Ux\n",
    "    \n",
    "    det = -4*b*b*b*d + b*b*c*c - 4*a*c*c*c + 18*a*b*c*d - 27*a*a*d*d\n",
    "    \n",
    "    if (det < 0):\n",
    "        return 'c'\n",
    "    \n",
    "    if (det > 0):\n",
    "        \n",
    "        a = roots([a, b, c, d])\n",
    "        a = a.real\n",
    "        \n",
    "        a = [atan(a[0]), atan(a[1]), atan(a[2])]\n",
    "            \n",
    "        U = [Ux*cos(a[0]) + Uy*sin(a[0]), Ux*cos(a[1]) + Uy*sin(a[1]), Ux*cos(a[2]) + Uy*sin(a[2])]\n",
    "        rightU = [2*sin(a[0])*cos(a[0]), 2*sin(a[1])*cos(a[1]), 2*sin(a[2])*cos(a[2])]\n",
    "    \n",
    "        for i in range(0, 3):\n",
    "            if (U[i] * rightU[i] < 0):\n",
    "                a[i] = a[i] + pi\n",
    "        \n",
    "        print a[0]*(180/pi), a[1]*(180/pi), a[2]*(180/pi)\n",
    "\n",
    "        a = sorted(a)\n",
    "        a = [a[0] - a[0], a[1] - a[0], a[2] - a[0]]        \n",
    "        \n",
    "        if (a[2] > pi):\n",
    "            return 'a'\n",
    "        else:\n",
    "            return 'b'"
   ]
  },
  {
   "cell_type": "code",
   "execution_count": 346,
   "metadata": {
    "collapsed": false
   },
   "outputs": [],
   "source": [
    "mu, sigma = 0, 1"
   ]
  },
  {
   "cell_type": "code",
   "execution_count": 524,
   "metadata": {
    "collapsed": false
   },
   "outputs": [],
   "source": [
    "Ux = 1.0\n",
    "Uy = 1.0\n",
    "Qx = -1.0\n",
    "Qy = 1.1"
   ]
  },
  {
   "cell_type": "code",
   "execution_count": 525,
   "metadata": {
    "collapsed": false,
    "scrolled": true
   },
   "outputs": [
    {
     "name": "stdout",
     "output_type": "stream",
     "text": [
      "-75.6291843111 44.0609744917 165.171028792\n",
      "a\n"
     ]
    }
   ],
   "source": [
    "print cubic(Qx, Qy, Ux, Uy)"
   ]
  },
  {
   "cell_type": "code",
   "execution_count": 526,
   "metadata": {
    "collapsed": false
   },
   "outputs": [],
   "source": [
    "U = array([-2*Ux + 2*Uy, -Ux + 2*Uy, 2*Uy, Ux + 2*Uy, 2*Ux + 2*Uy,-2*Ux + Uy, -Ux + Uy, Uy, Ux + Uy, 2*Ux + Uy,-2*Ux, -Ux, 0.0, Ux, 2*Ux,-2*Ux - Uy, -Ux - Uy, -Uy, Ux - Uy, 2*Ux - Uy,-2*Ux - 2*Uy, -Ux - 2*Uy, -2*Uy, Ux - 2*Uy, 2*Ux - 2*Uy])\n",
    "Q = array([-2*Qx + 2*Qy, -Qx + 2*Qy, 2*Qy, Qx + 2*Qy, 2*Qx + 2*Qy,-2*Qx + Qy, -Qx + Qy, Qy, Qx + Qy, 2*Qx + Qy,-2*Qx, -Qx, 0.0, Qx, 2*Qx,-2*Qx - Qy, -Qx - Qy, -Qy, Qx - Qy, 2*Qx - Qy,-2*Qx - 2*Qy, -Qx - 2*Qy, -2*Qy, Qx - 2*Qy, 2*Qx - 2*Qy])\n",
    "P_x = Ux * U + Q * Qx\n",
    "P_y = Uy * U + Q * Qy"
   ]
  },
  {
   "cell_type": "code",
   "execution_count": 527,
   "metadata": {
    "collapsed": false
   },
   "outputs": [
    {
     "name": "stderr",
     "output_type": "stream",
     "text": [
      "/Users/heyfaraday/anaconda/envs/new2/lib/python2.7/site-packages/ipykernel/__main__.py:4: RuntimeWarning: divide by zero encountered in reciprocal\n",
      "/Users/heyfaraday/anaconda/envs/new2/lib/python2.7/site-packages/ipykernel/__main__.py:4: RuntimeWarning: invalid value encountered in multiply\n",
      "/Users/heyfaraday/anaconda/envs/new2/lib/python2.7/site-packages/ipykernel/__main__.py:5: RuntimeWarning: divide by zero encountered in reciprocal\n",
      "/Users/heyfaraday/anaconda/envs/new2/lib/python2.7/site-packages/ipykernel/__main__.py:5: RuntimeWarning: invalid value encountered in multiply\n",
      "/Users/heyfaraday/anaconda/envs/new2/lib/python2.7/site-packages/ipykernel/__main__.py:7: RuntimeWarning: divide by zero encountered in reciprocal\n",
      "/Users/heyfaraday/anaconda/envs/new2/lib/python2.7/site-packages/ipykernel/__main__.py:7: RuntimeWarning: invalid value encountered in multiply\n",
      "/Users/heyfaraday/anaconda/envs/new2/lib/python2.7/site-packages/ipykernel/__main__.py:8: RuntimeWarning: divide by zero encountered in reciprocal\n",
      "/Users/heyfaraday/anaconda/envs/new2/lib/python2.7/site-packages/ipykernel/__main__.py:8: RuntimeWarning: invalid value encountered in multiply\n"
     ]
    }
   ],
   "source": [
    "P1_x = array([-2, -1, 0, 1, 2, -2, -1, 0, 1, 2, -2, -1, 0, 1, 2, -2, -1, 0, 1, 2, -2, -1, 0, 1, 2])\n",
    "P1_y = array([2, 2, 2, 2, 2, 1, 1, 1, 1, 1, 0, 0, 0, 0, 0, -1, -1, -1, -1, -1, -2, -2, -2, -2, -2])\n",
    "\n",
    "P2_x = P1_x + P_x*0.1*np.reciprocal(fb(P_x))\n",
    "P2_y = P1_y + P_y*0.1*np.reciprocal(fb(P_y))\n",
    "\n",
    "P3_x = P1_x - P_x*0.1*np.reciprocal(fb(P_x))\n",
    "P3_y = P1_y - P_y*0.1*np.reciprocal(fb(P_y))"
   ]
  },
  {
   "cell_type": "code",
   "execution_count": 528,
   "metadata": {
    "collapsed": false
   },
   "outputs": [
    {
     "name": "stderr",
     "output_type": "stream",
     "text": [
      "/Users/heyfaraday/anaconda/envs/new2/lib/python2.7/site-packages/ipykernel/__main__.py:1: RuntimeWarning: divide by zero encountered in reciprocal\n",
      "  if __name__ == '__main__':\n",
      "/Users/heyfaraday/anaconda/envs/new2/lib/python2.7/site-packages/ipykernel/__main__.py:1: RuntimeWarning: invalid value encountered in multiply\n",
      "  if __name__ == '__main__':\n"
     ]
    },
    {
     "data": {
      "text/plain": [
       "array([-0.1, -0.1, -0.1,  0.1,  0.1, -0.1, -0.1, -0.1,  0.1,  0.1, -0.1,\n",
       "       -0.1,  nan,  0.1,  0.1, -0.1, -0.1,  0.1,  0.1,  0.1, -0.1, -0.1,\n",
       "        0.1,  0.1,  0.1])"
      ]
     },
     "execution_count": 528,
     "metadata": {},
     "output_type": "execute_result"
    }
   ],
   "source": [
    "P_x*0.1*np.reciprocal(fb(P_x))"
   ]
  },
  {
   "cell_type": "code",
   "execution_count": 529,
   "metadata": {
    "collapsed": false,
    "scrolled": false
   },
   "outputs": [
    {
     "name": "stdout",
     "output_type": "stream",
     "text": [
      "[-2.1 -1.1 -0.1  1.1  2.1 -2.1 -1.1 -0.1  1.1  2.1 -2.1 -1.1  nan  1.1  2.1\n",
      " -2.1 -1.1  0.1  1.1  2.1 -2.1 -1.1  0.1  1.1  2.1]\n",
      "[ 2.1  2.1  2.1  2.1  2.1  1.1  1.1  1.1  1.1  1.1  0.1  0.1  nan -0.1 -0.1\n",
      " -1.1 -1.1 -1.1 -1.1 -1.1 -2.1 -2.1 -2.1 -2.1 -2.1]\n"
     ]
    }
   ],
   "source": [
    "print P2_x\n",
    "print P2_y"
   ]
  },
  {
   "cell_type": "code",
   "execution_count": 530,
   "metadata": {
    "collapsed": false,
    "scrolled": true
   },
   "outputs": [
    {
     "name": "stdout",
     "output_type": "stream",
     "text": [
      "[ -0.90909091  -0.48672566  -0.04524887   0.41666667   0.90047393\n",
      "  -1.70124481  -0.90909091  -0.04524887   0.90047393   1.94029851 -20.         -20.\n",
      "          nan -20.         -20.           1.94029851   0.90047393\n",
      "  -0.04524887  -0.90909091  -1.70124481   0.90047393   0.41666667\n",
      "  -0.04524887  -0.48672566  -0.90909091]\n"
     ]
    },
    {
     "name": "stderr",
     "output_type": "stream",
     "text": [
      "/Users/heyfaraday/anaconda/envs/new2/lib/python2.7/site-packages/ipykernel/__main__.py:1: RuntimeWarning: divide by zero encountered in reciprocal\n",
      "  if __name__ == '__main__':\n",
      "/Users/heyfaraday/anaconda/envs/new2/lib/python2.7/site-packages/ipykernel/__main__.py:1: RuntimeWarning: invalid value encountered in multiply\n",
      "  if __name__ == '__main__':\n"
     ]
    }
   ],
   "source": [
    "print P_x*np.reciprocal(P_y)"
   ]
  },
  {
   "cell_type": "code",
   "execution_count": 531,
   "metadata": {
    "collapsed": false
   },
   "outputs": [
    {
     "data": {
      "text/plain": [
       "array([-2.1, -1.1, -0.1,  1.1,  2.1, -2.1, -1.1, -0.1,  1.1,  2.1, -2.1,\n",
       "       -1.1,  nan,  1.1,  2.1, -2.1, -1.1,  0.1,  1.1,  2.1, -2.1, -1.1,\n",
       "        0.1,  1.1,  2.1])"
      ]
     },
     "execution_count": 531,
     "metadata": {},
     "output_type": "execute_result"
    }
   ],
   "source": [
    "P2_x"
   ]
  },
  {
   "cell_type": "code",
   "execution_count": 532,
   "metadata": {
    "collapsed": false
   },
   "outputs": [],
   "source": [
    "import matplotlib.pyplot as plt\n",
    "%matplotlib inline"
   ]
  },
  {
   "cell_type": "code",
   "execution_count": 533,
   "metadata": {
    "collapsed": false,
    "scrolled": false
   },
   "outputs": [
    {
     "data": {
      "image/png": "[encoded data removed]",
      "text/plain": [
       "<matplotlib.figure.Figure at 0x107b8dcd0>"
      ]
     },
     "metadata": {},
     "output_type": "display_data"
    }
   ],
   "source": [
    "plt.plot(P1_x, P1_y, 'ro')\n",
    "plt.plot(P2_x, P2_y, 'go')\n",
    "plt.plot(P3_x, P3_y, 'bo')\n",
    "\n",
    "plt.show()"
   ]
  },
  {
   "cell_type": "code",
   "execution_count": 339,
   "metadata": {
    "collapsed": true
   },
   "outputs": [],
   "source": [
    "Ux = random.normal(mu, sigma, 1000000)\n",
    "Uy = random.normal(mu, sigma, 1000000)\n",
    "Qx = random.normal(mu, sigma, 1000000)\n",
    "Qy = random.normal(mu, sigma, 1000000)"
   ]
  },
  {
   "cell_type": "code",
   "execution_count": 340,
   "metadata": {
    "collapsed": false
   },
   "outputs": [
    {
     "name": "stdout",
     "output_type": "stream",
     "text": [
      "0.52896 0.09177 0.37927\n"
     ]
    }
   ],
   "source": [
    "a, b, c = 0, 0, 0\n",
    "\n",
    "for i in range(0, 100000):\n",
    "    ch = ''\n",
    "    ch = cubic(Qx[i], Qy[i], Ux[i], Uy[i])\n",
    "    if (ch == 'a'):\n",
    "        a = a + 1\n",
    "    if (ch == 'b'):\n",
    "        b = b + 1\n",
    "    if (ch == 'c'):\n",
    "        c = c + 1\n",
    "        \n",
    "print a/100000.0, b/100000.0, c/100000.0"
   ]
  },
  {
   "cell_type": "code",
   "execution_count": 205,
   "metadata": {
    "collapsed": false
   },
   "outputs": [
    {
     "data": {
      "text/plain": [
       "array([  6.,  11.,  16.,  21.,  26.,  -2.,   3.,   8.,  13.,  18., -10.,\n",
       "        -5.,   0.,   5.,  10., -18., -13.,  -8.,  -3.,   2., -26., -21.,\n",
       "       -16., -11.,  -6.])"
      ]
     },
     "execution_count": 205,
     "metadata": {},
     "output_type": "execute_result"
    }
   ],
   "source": [
    "P_x"
   ]
  },
  {
   "cell_type": "code",
   "execution_count": 210,
   "metadata": {
    "collapsed": false
   },
   "outputs": [
    {
     "data": {
      "text/plain": [
       "array([ 10.,  18.,  26.,  34.,  42.,  -3.,   5.,  13.,  21.,  29., -16.,\n",
       "        -8.,   0.,   8.,  16., -29., -21., -13.,  -5.,   3., -42., -34.,\n",
       "       -26., -18., -10.])"
      ]
     },
     "execution_count": 210,
     "metadata": {},
     "output_type": "execute_result"
    }
   ],
   "source": [
    "P_y"
   ]
  },
  {
   "cell_type": "code",
   "execution_count": null,
   "metadata": {
    "collapsed": true
   },
   "outputs": [],
   "source": []
  }
 ],
 "metadata": {
  "anaconda-cloud": {},
  "kernelspec": {
   "display_name": "Python [new2]",
   "language": "python",
   "name": "Python [new2]"
  },
  "language_info": {
   "codemirror_mode": {
    "name": "ipython",
    "version": 2
   },
   "file_extension": ".py",
   "mimetype": "text/x-python",
   "name": "python",
   "nbconvert_exporter": "python",
   "pygments_lexer": "ipython2",
   "version": "2.7.12"
  }
 },
 "nbformat": 4,
 "nbformat_minor": 0
}
