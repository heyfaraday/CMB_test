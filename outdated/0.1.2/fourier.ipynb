{
 "cells": [
  {
   "cell_type": "code",
   "execution_count": 4,
   "metadata": {
    "collapsed": false
   },
   "outputs": [
    {
     "name": "stderr",
     "output_type": "stream",
     "text": [
      "/Users/heyfaraday/anaconda/envs/new2/lib/python2.7/site-packages/ipykernel/__main__.py:9: VisibleDeprecationWarning: using a non-integer number instead of an integer will result in an error in the future\n",
      "/Users/heyfaraday/anaconda/envs/new2/lib/python2.7/site-packages/ipykernel/__main__.py:10: VisibleDeprecationWarning: using a non-integer number instead of an integer will result in an error in the future\n",
      "/Users/heyfaraday/anaconda/envs/new2/lib/python2.7/site-packages/ipykernel/__main__.py:11: VisibleDeprecationWarning: using a non-integer number instead of an integer will result in an error in the future\n"
     ]
    },
    {
     "data": {
      "image/png": "[encoded data removed]",
      "text/plain": [
       "<matplotlib.figure.Figure at 0x105a65d10>"
      ]
     },
     "metadata": {},
     "output_type": "display_data"
    }
   ],
   "source": [
    "from numpy import *\n",
    "from pylab import *\n",
    "\n",
    "xlim([0,1])\n",
    "ylim([0,1])\n",
    "\n",
    "x,y,z = genfromtxt('f1.dat').T\n",
    "N = sqrt(x.shape[0])\n",
    "x = x.reshape(N,N)\n",
    "y = y.reshape(N,N)\n",
    "z = z.reshape(N,N)\n",
    "pcolor(x,y,z)\n",
    "\n",
    "\n",
    "show()"
   ]
  },
  {
   "cell_type": "code",
   "execution_count": 2,
   "metadata": {
    "collapsed": false
   },
   "outputs": [
    {
     "data": {
      "text/plain": [
       "array([[ -1.70864086e+00+0.j,   0.00000000e+00+0.j,   7.58798099e-16+0.j,\n",
       "        ...,   0.00000000e+00+0.j,   7.58798099e-16+0.j,\n",
       "          0.00000000e+00+0.j],\n",
       "       [ -1.75820415e+00+0.j,   0.00000000e+00+0.j,   6.18927481e-16+0.j,\n",
       "        ...,   0.00000000e+00+0.j,   6.18927481e-16+0.j,\n",
       "          0.00000000e+00+0.j],\n",
       "       [ -1.80669163e+00+0.j,   0.00000000e+00+0.j,   1.02105551e-15+0.j,\n",
       "        ...,   0.00000000e+00+0.j,   1.02105551e-15+0.j,\n",
       "          0.00000000e+00+0.j],\n",
       "       ..., \n",
       "       [ -1.55380252e+00+0.j,   0.00000000e+00+0.j,   8.63701062e-16+0.j,\n",
       "        ...,   0.00000000e+00+0.j,   8.63701062e-16+0.j,\n",
       "          0.00000000e+00+0.j],\n",
       "       [ -1.60640877e+00+0.j,   0.00000000e+00+0.j,   1.01755874e-15+0.j,\n",
       "        ...,   0.00000000e+00+0.j,   1.01755874e-15+0.j,\n",
       "          0.00000000e+00+0.j],\n",
       "       [ -1.65803208e+00+0.j,   0.00000000e+00+0.j,   1.02804904e-15+0.j,\n",
       "        ...,   0.00000000e+00+0.j,   1.02804904e-15+0.j,\n",
       "          0.00000000e+00+0.j]])"
      ]
     },
     "execution_count": 2,
     "metadata": {},
     "output_type": "execute_result"
    }
   ],
   "source": [
    "ifft(z)"
   ]
  },
  {
   "cell_type": "markdown",
   "metadata": {},
   "source": [
    "http://docs.scipy.org/doc/numpy/reference/routines.fft.html"
   ]
  }
 ],
 "metadata": {
  "anaconda-cloud": {},
  "kernelspec": {
   "display_name": "Python [new2]",
   "language": "python",
   "name": "Python [new2]"
  },
  "language_info": {
   "codemirror_mode": {
    "name": "ipython",
    "version": 2
   },
   "file_extension": ".py",
   "mimetype": "text/x-python",
   "name": "python",
   "nbconvert_exporter": "python",
   "pygments_lexer": "ipython2",
   "version": "2.7.12"
  }
 },
 "nbformat": 4,
 "nbformat_minor": 0
}
