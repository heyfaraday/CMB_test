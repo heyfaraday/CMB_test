{
 "cells": [
  {
   "cell_type": "code",
   "execution_count": 23,
   "metadata": {
    "collapsed": false
   },
   "outputs": [],
   "source": [
    "import numpy as np\n",
    "from math import *\n",
    "import pandas as pd\n",
    "from pylab import *"
   ]
  },
  {
   "cell_type": "code",
   "execution_count": 24,
   "metadata": {
    "collapsed": true
   },
   "outputs": [],
   "source": [
    "points = float(254)\n",
    "modes = float(1)\n",
    "seed = 5"
   ]
  },
  {
   "cell_type": "code",
   "execution_count": 25,
   "metadata": {
    "collapsed": true
   },
   "outputs": [],
   "source": [
    "def f(a, b, k1, k2, x, y):\n",
    "    return a*cos(k1*x+k2*y) + b*sin(k1*x+k2*y)\n",
    "def fx(a, b, k1, k2, x, y):\n",
    "    return k1*(- a*sin(k1*x+k2*y) + b*cos(k1*x+k2&y) )\n",
    "def fy(a, b, k1, k2, x, y):\n",
    "    return k2*(- a*sin(k1*x+k2*y) + b*cos(k1*x+k2&y) )\n",
    "def fxx(a, b, k1, k2, x, y):\n",
    "    return k1*k1*(-a*cos(k1*x+k2*y) - b*sin(k1*x+k2&y))\n",
    "def fyy(a, b, k1, k2, x, y):\n",
    "    return k2*k2*(-a*cos(k1*x+k2*y) - b*sin(k1*x+k2&y))\n",
    "def fxy(a, b, k1, k2, x, y):\n",
    "    return k1*k2*(-a*cos(k1*x+k2*y) - b*sin(k1*x+k2&y))\n",
    "def fxxx(a, b, k1, k2, x, y):\n",
    "    return k1*k1*k1*(a*sin(k1*x+k2*y) - b*cos(k1*x+k2&y))\n",
    "def fyyy(a, b, k1, k2, x, y):\n",
    "    return k2*k2*k2*(a*sin(k1*x+k2*y) - b*cos(k1*x+k2&y))\n",
    "def fxyy(a, b, k1, k2, x, y):\n",
    "    return k1*k2*k2*(a*sin(k1*x+k2*y) - b*cos(k1*x+k2&y))\n",
    "def fyxx(a, b, k1, k2, x, y):\n",
    "    return k1*k1*k2*(a*sin(k1*x+k2*y) - b*cos(k1*x+k2&y))"
   ]
  },
  {
   "cell_type": "markdown",
   "metadata": {},
   "source": [
    "Пример для трёх гармоник"
   ]
  },
  {
   "cell_type": "code",
   "execution_count": 26,
   "metadata": {
    "collapsed": false
   },
   "outputs": [],
   "source": [
    "mu, sigma = 0.0, 1.0 \n",
    "\n",
    "a_coef = np.random.normal(mu, sigma, (2*int(points) + 1, int(points) + 1))\n",
    "b_coef = np.random.normal(mu, sigma, (2*int(points) + 1, int(points) + 1))"
   ]
  },
  {
   "cell_type": "code",
   "execution_count": 27,
   "metadata": {
    "collapsed": true
   },
   "outputs": [],
   "source": [
    "def P(k1, k2, K0):\n",
    "    if (k1 > K0) | (k2 > K0):\n",
    "        return 0\n",
    "    else:\n",
    "        return 1"
   ]
  },
  {
   "cell_type": "code",
   "execution_count": 28,
   "metadata": {
    "collapsed": false
   },
   "outputs": [],
   "source": [
    "def func (i, j, a_coef, b_coef, modes, N):\n",
    "    y = 0.0\n",
    "    for k1 in range(0, 2*int(modes)): \n",
    "        for k2 in range(0, int(modes)): \n",
    "            y = y + ((fabs(k1-int(modes)))**2 - k2**2)*(a_coef[k1][k2]*cos(2*pi*(i*(k1 - int(modes))+j*k2)/N) + b_coef[k1][k2]*sin(2*pi*(i*(k1 - int(modes))+j*k2)/N))\n",
    "            #y = y + (a_coef[k1][k2]*cos(2*pi*(i*k1+j*k2)/N) + a_coef[k1][k2]*sin(2*pi*(i*k1+j*k2)/N))\n",
    "\n",
    "    return y\n",
    "#((float(k1 - int(modes)))**2-(float(k2))**2)**P(k1, k2, int(modes))*"
   ]
  },
  {
   "cell_type": "code",
   "execution_count": 29,
   "metadata": {
    "collapsed": true
   },
   "outputs": [],
   "source": [
    "def func_x (i, j, a_coef, b_coef, modes, N):\n",
    "    y = 0.0\n",
    "    for k1 in range(0, 2*int(modes)): \n",
    "        for k2 in range(0, int(modes)): \n",
    "            y = y + (k1 - int(modes))*((fabs(k1-int(modes)))**2 - k2**2)*(-a_coef[k1][k2]*sin(2*pi*(i*(k1 - int(modes))+j*k2)/N) + b_coef[k1][k2]*cos(2*pi*(i*(k1 - int(modes))+j*k2)/N))\n",
    "            #y = y + (a_coef[k1][k2]*cos(2*pi*(i*k1+j*k2)/N) + a_coef[k1][k2]*sin(2*pi*(i*k1+j*k2)/N))\n",
    "\n",
    "    return y\n",
    "#((float(k1 - int(modes)))**2-(float(k2))**2)**P(k1, k2, int(modes))*"
   ]
  },
  {
   "cell_type": "code",
   "execution_count": 30,
   "metadata": {
    "collapsed": true
   },
   "outputs": [],
   "source": [
    "def func_y (i, j, a_coef, b_coef, modes, N):\n",
    "    y = 0.0\n",
    "    for k1 in range(0, 2*int(modes)): \n",
    "        for k2 in range(0, int(modes)): \n",
    "            y = y + k2*((fabs(k1-int(modes)))**2 - k2**2)*(-a_coef[k1][k2]*sin(2*pi*(i*(k1 - int(modes))+j*k2)/N) + b_coef[k1][k2]*cos(2*pi*(i*(k1 - int(modes))+j*k2)/N))\n",
    "            #y = y + (a_coef[k1][k2]*cos(2*pi*(i*k1+j*k2)/N) + a_coef[k1][k2]*sin(2*pi*(i*k1+j*k2)/N))\n",
    "\n",
    "    return y\n",
    "#((float(k1 - int(modes)))**2-(float(k2))**2)**P(k1, k2, int(modes))*"
   ]
  },
  {
   "cell_type": "code",
   "execution_count": 31,
   "metadata": {
    "collapsed": false
   },
   "outputs": [],
   "source": [
    "file = open(\"f1.dat\", 'w')\n",
    "for j1 in xrange(0, int(points)):\n",
    "    for j2 in xrange (0, int(points)):\n",
    "        x = j1/(points)\n",
    "        y = j2/(points)\n",
    "        file.write('{}    {}    {}\\n'.format(y, x, func(j1, j2, a_coef, b_coef, int(modes), points)))\n",
    "file.close()"
   ]
  },
  {
   "cell_type": "code",
   "execution_count": 32,
   "metadata": {
    "collapsed": false
   },
   "outputs": [],
   "source": [
    "file = open(\"derivatives1.dat\", 'w')\n",
    "for j1 in xrange(0, int(points)):\n",
    "    for j2 in xrange (0, int(points)):\n",
    "        x = j1/(points)\n",
    "        y = j2/(points)\n",
    "        file.write('{}    {}    {}    {}\\n'.format(y, x, func_x(j1, j2, a_coef, b_coef, int(modes), points), func_y(j1, j2, a_coef, b_coef, int(modes), points)))\n",
    "file.close()"
   ]
  },
  {
   "cell_type": "code",
   "execution_count": 33,
   "metadata": {
    "collapsed": false
   },
   "outputs": [],
   "source": [
    "def func (i, j, a_coef, b_coef, modes, N):\n",
    "    y = 0.0\n",
    "    for k1 in range(0, 2*int(modes)): \n",
    "        for k2 in range(0, int(modes)): \n",
    "            y = y + (k1-int(modes))*2.0*k2*(a_coef[k1][k2]*cos(2*pi*(i*(k1 - int(modes))+j*k2)/N) + b_coef[k1][k2]*sin(2*pi*(i*(k1 - int(modes))+j*k2)/N))\n",
    "            #y = y + (a_coef[k1][k2]*cos(2*pi*(i*k1+j*k2)/N) + a_coef[k1][k2]*sin(2*pi*(i*k1+j*k2)/N))\n",
    "    \n",
    "    return y\n",
    "#2*((float(k1 - int(modes)))*(float(k2)))*"
   ]
  },
  {
   "cell_type": "code",
   "execution_count": 34,
   "metadata": {
    "collapsed": true
   },
   "outputs": [],
   "source": [
    "def func_x (i, j, a_coef, b_coef, modes, N):\n",
    "    y = 0.0\n",
    "    for k1 in range(0, 2*int(modes)): \n",
    "        for k2 in range(0, int(modes)): \n",
    "            y = y + 2*(k1 - int(modes))*(k1-int(modes))*k2*(-a_coef[k1][k2]*sin(2*pi*(i*(k1 - int(modes))+j*k2)/N) + b_coef[k1][k2]*cos(2*pi*(i*(k1 - int(modes))+j*k2)/N))\n",
    "            #y = y + (a_coef[k1][k2]*cos(2*pi*(i*k1+j*k2)/N) + a_coef[k1][k2]*sin(2*pi*(i*k1+j*k2)/N))\n",
    "\n",
    "    return y\n",
    "#((float(k1 - int(modes)))**2-(float(k2))**2)**P(k1, k2, int(modes))*"
   ]
  },
  {
   "cell_type": "code",
   "execution_count": 35,
   "metadata": {
    "collapsed": true
   },
   "outputs": [],
   "source": [
    "def func_y (i, j, a_coef, b_coef, modes, N):\n",
    "    y = 0.0\n",
    "    for k1 in range(0, 2*int(modes)): \n",
    "        for k2 in range(0, int(modes)): \n",
    "            y = y + 2*k2*(k1-int(modes))*k2*(-a_coef[k1][k2]*sin(2*pi*(i*(k1 - int(modes))+j*k2)/N) + b_coef[k1][k2]*cos(2*pi*(i*(k1 - int(modes))+j*k2)/N))\n",
    "            #y = y + (a_coef[k1][k2]*cos(2*pi*(i*k1+j*k2)/N) + a_coef[k1][k2]*sin(2*pi*(i*k1+j*k2)/N))\n",
    "\n",
    "    return y\n",
    "#((float(k1 - int(modes)))**2-(float(k2))**2)**P(k1, k2, int(modes))*"
   ]
  },
  {
   "cell_type": "code",
   "execution_count": 36,
   "metadata": {
    "collapsed": false
   },
   "outputs": [],
   "source": [
    "mu, sigma = 0.0, 1.0 \n",
    "\n",
    "a_coef = np.random.normal(mu, sigma, (2*int(points) + 1, int(points) + 1))\n",
    "b_coef = np.random.normal(mu, sigma, (2*int(points) + 1, int(points) + 1))"
   ]
  },
  {
   "cell_type": "code",
   "execution_count": 37,
   "metadata": {
    "collapsed": false
   },
   "outputs": [],
   "source": [
    "file = open(\"f2.dat\", 'w')\n",
    "for j1 in xrange(0, int(points)):\n",
    "    for j2 in xrange (0, int(points)):\n",
    "        x = j1/(points)\n",
    "        y = j2/(points)\n",
    "        file.write('{}    {}    {}\\n'.format(y, x, func(j1, j2, a_coef, b_coef, int(modes), points)))\n",
    "file.close()"
   ]
  },
  {
   "cell_type": "code",
   "execution_count": 38,
   "metadata": {
    "collapsed": true
   },
   "outputs": [],
   "source": [
    "file = open(\"derivatives2.dat\", 'w')\n",
    "for j1 in xrange(0, int(points)):\n",
    "    for j2 in xrange (0, int(points)):\n",
    "        x = j1/(points)\n",
    "        y = j2/(points)\n",
    "        file.write('{}    {}    {}    {}\\n'.format(y, x, func_x(j1, j2, a_coef, b_coef, int(modes), points), func_y(j1, j2, a_coef, b_coef, int(modes), points)))\n",
    "file.close()"
   ]
  },
  {
   "cell_type": "code",
   "execution_count": 39,
   "metadata": {},
   "outputs": [
    {
     "name": "stdout",
     "output_type": "stream",
     "text": [
      "[[ 1.10471934 -1.21705879  0.45360344 ..., -1.76914744 -1.4691392\n",
      "   1.15120101]\n",
      " [-0.23643842 -0.64194739 -0.74948277 ..., -0.30400607  1.11294846\n",
      "  -0.79222186]\n",
      " [-0.31663419  0.28994381  1.71435204 ..., -0.54695454  0.69111755\n",
      "  -2.02858315]\n",
      " ..., \n",
      " [ 1.44574228  0.64694699 -1.20176958 ...,  1.72642793 -0.83883564\n",
      "   2.70010344]\n",
      " [-0.66717089  0.50017932 -1.11163304 ...,  0.99294532 -0.88541582\n",
      "   0.40333067]\n",
      " [ 0.82501874 -0.72485442  1.114924   ...,  0.99211124 -1.14004993\n",
      "  -0.05524027]]\n"
     ]
    }
   ],
   "source": [
    "print a_coef"
   ]
  },
  {
   "cell_type": "code",
   "execution_count": null,
   "metadata": {},
   "outputs": [],
   "source": []
  },
  {
   "cell_type": "code",
   "execution_count": null,
   "metadata": {},
   "outputs": [],
   "source": []
  }
 ],
 "metadata": {
  "anaconda-cloud": {},
  "kernelspec": {
   "display_name": "Python [new2]",
   "language": "python",
   "name": "Python [new2]"
  },
  "language_info": {
   "codemirror_mode": {
    "name": "ipython",
    "version": 2
   },
   "file_extension": ".py",
   "mimetype": "text/x-python",
   "name": "python",
   "nbconvert_exporter": "python",
   "pygments_lexer": "ipython2",
   "version": "2.7.12"
  }
 },
 "nbformat": 4,
 "nbformat_minor": 0
}
