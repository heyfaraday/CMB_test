{
 "cells": [
  {
   "cell_type": "code",
   "execution_count": 1,
   "metadata": {
    "collapsed": false
   },
   "outputs": [
    {
     "name": "stderr",
     "output_type": "stream",
     "text": [
      "/Users/heyfaraday/anaconda/envs/new2/lib/python2.7/site-packages/IPython/kernel/__init__.py:13: ShimWarning: The `IPython.kernel` package has been deprecated. You should import from ipykernel or jupyter_client instead.\n",
      "  \"You should import from ipykernel or jupyter_client instead.\", ShimWarning)\n"
     ]
    }
   ],
   "source": [
    "import astropy as ap\n",
    "import healpy as hp\n",
    "import pandas as pd\n",
    "import numpy as np\n",
    "import scipy as sc"
   ]
  },
  {
   "cell_type": "code",
   "execution_count": 2,
   "metadata": {
    "collapsed": false
   },
   "outputs": [],
   "source": [
    "hdulist1 = ap.io.fits.open('data/LFI_SkyMap_044-BPassCorrected-field-IQU_0256_R2.01_full.fits')\n",
    "hdulist2 = ap.io.fits.open('data/pixel_coords_map_nested_ns256.fits')"
   ]
  },
  {
   "cell_type": "code",
   "execution_count": 3,
   "metadata": {
    "collapsed": false,
    "scrolled": false
   },
   "outputs": [
    {
     "data": {
      "text/plain": [
       "SIMPLE  =                    T / Written by IDL:  Mon Oct 19 17:09:28 2015      \n",
       "BITPIX  =                    8 /Dummy primary header created by MWRFITS         \n",
       "NAXIS   =                    0 /No data is associated with this header          \n",
       "EXTEND  =                    T /Extensions may (will!) be present               \n",
       "CHECKSUM= 'J7dPK6bNJ6bNJ6bN'   / HDU checksum created 2015-10-19T15:09:28       "
      ]
     },
     "execution_count": 3,
     "metadata": {},
     "output_type": "execute_result"
    }
   ],
   "source": [
    "hdulist1[0].header"
   ]
  },
  {
   "cell_type": "code",
   "execution_count": 4,
   "metadata": {
    "collapsed": false,
    "scrolled": false
   },
   "outputs": [
    {
     "data": {
      "text/plain": [
       "XTENSION= 'BINTABLE'           /Written by IDL:  Mon Oct 19 17:09:27 2015       \n",
       "BITPIX  =                    8 /                                                \n",
       "NAXIS   =                    2 /Binary table                                    \n",
       "NAXIS1  =                   12 /Number of bytes per row                         \n",
       "NAXIS2  =               786432 /Number of rows                                  \n",
       "PCOUNT  =                    0 /Random parameter count                          \n",
       "GCOUNT  =                    1 /Group count                                     \n",
       "TFIELDS =                    3 /Number of columns                               \n",
       "COMMENT                                                                         \n",
       "COMMENT  *** End of mandatory fields ***                                        \n",
       "COMMENT                                                                         \n",
       "EXTNAME = 'BPassCorrected'     /Extension name                                  \n",
       "EXTVER  =                    1 /Extension version                               \n",
       "DATE    = '2015-10-19'         /Creation date                                   \n",
       "COMMENT                                                                         \n",
       "COMMENT  *** Column names ***                                                   \n",
       "COMMENT                                                                         \n",
       "TTYPE1  = 'TEMPERATURE '       /                                                \n",
       "TTYPE2  = 'Q_POLARIZATION '    /                                                \n",
       "TTYPE3  = 'U_POLARIZATION '    /                                                \n",
       "COMMENT                                                                         \n",
       "COMMENT  *** Column formats ***                                                 \n",
       "COMMENT                                                                         \n",
       "TFORM1  = 'E       '           /                                                \n",
       "TFORM2  = 'E       '           /                                                \n",
       "TFORM3  = 'E       '           /                                                \n",
       "COMMENT                                                                         \n",
       "COMMENT *** Column units ***                                                    \n",
       "COMMENT                                                                         \n",
       "TUNIT1  = 'K_CMB   '           /                                                \n",
       "TUNIT2  = 'K_CMB   '           /                                                \n",
       "TUNIT3  = 'K_CMB   '           /                                                \n",
       "COMMENT                                                                         \n",
       "COMMENT *** Planck params ***                                                   \n",
       "COMMENT                                                                         \n",
       "PIXTYPE = 'HEALPIX '           / HEALPIX pixelisation                           \n",
       "ORDERING= 'NESTED  '           / Pixel ordering scheme, either RING or NESTED   \n",
       "COORDSYS= 'GALACTIC'           /                                                \n",
       "POLCCONV= 'COSMO   '           / Coord. convention for polarization (COSMO/IAU) \n",
       "NSIDE   =                  256 / Resolution parameter for HEALPIX               \n",
       "FIRSTPIX=                    0 / First pixel # (0 based)                        \n",
       "LASTPIX =               786431 / Last pixel # (0 based)                         \n",
       "INDXSCHM= 'IMPLICIT'           / Indexing; IMPLICIT or EXPLICIT                 \n",
       "BAD_DATA=        -1.63750E+030 / Sentinel value given to bad pixel              \n",
       "PROCVER = 'DX11D   '           / Product version                                \n",
       "FILENAME= 'LFI_SkyMap_044-BPassCorrected-field-IQU_0256_R2.01_full.fits' / FITS \n",
       "COMMENT                                                                         \n",
       "COMMENT     Original Inputs                                                     \n",
       "COMMENT ------------------------------------------------------------            \n",
       "COMMENT PLANCK_CONV Version 0.6.3                                               \n",
       "COMMENT PLANCK_CONV: Smoothed to give gaussian beam of FWHM  60.0 arcmin        \n",
       "COMMENT PLANCK_CONV: Covariance matrix appropriately smoothed                   \n",
       "COMMENT Input file: LFI_SkyMap_044_1024_DX11D_full.fits                         \n",
       "COMMENT ------------------------------------------------------------            \n",
       "COMMENT For further details see Planck Explanatory Supplement at:               \n",
       "COMMENT  http://www.cosmos.esa.int/wikiSI/planckpla                             \n",
       "COMMENT ------------------------------------------------------------            \n",
       "DATASUM = '4294428839'         / data unit checksum created 2015-10-19T15:09:28 \n",
       "CHECKSUM= 'bqGEcoEDboEDboED'   / HDU checksum created 2015-10-19T15:09:28       "
      ]
     },
     "execution_count": 4,
     "metadata": {},
     "output_type": "execute_result"
    }
   ],
   "source": [
    "hdulist1[1].header"
   ]
  },
  {
   "cell_type": "code",
   "execution_count": 5,
   "metadata": {
    "collapsed": false
   },
   "outputs": [
    {
     "data": {
      "text/plain": [
       "SIMPLE  =                    T /Dummy Created by MWRFITS v1.11                  \n",
       "BITPIX  =                    8 /Dummy primary header created by MWRFITS         \n",
       "NAXIS   =                    0 /No data is associated with this header          \n",
       "EXTEND  =                    T /Extensions may (will!) be present               "
      ]
     },
     "execution_count": 5,
     "metadata": {},
     "output_type": "execute_result"
    }
   ],
   "source": [
    "hdulist2[0].header"
   ]
  },
  {
   "cell_type": "code",
   "execution_count": 6,
   "metadata": {
    "collapsed": false
   },
   "outputs": [
    {
     "data": {
      "text/plain": [
       "XTENSION= 'BINTABLE'           /Binary table written by MWRFITS v1.11           \n",
       "BITPIX  =                    8 /Required value                                  \n",
       "NAXIS   =                    2 /Required value                                  \n",
       "NAXIS1  =                   52 /Number of bytes per row                         \n",
       "NAXIS2  =               786432 /Number of rows                                  \n",
       "PCOUNT  =                    0 /Normally 0 (no varying arrays)                  \n",
       "GCOUNT  =                    1 /Required value                                  \n",
       "TFIELDS =                    7 /Number of columns in table                      \n",
       "TFORM1  = 'J       '           /                                                \n",
       "TFORM2  = 'D       '           /                                                \n",
       "TFORM3  = 'D       '           /                                                \n",
       "TFORM4  = 'D       '           /                                                \n",
       "TFORM5  = 'D       '           /                                                \n",
       "TFORM6  = 'D       '           /                                                \n",
       "TFORM7  = 'D       '           /                                                \n",
       "TTYPE1  = 'PIXNUM  '           /                                                \n",
       "TTYPE2  = 'GLON    '           /                                                \n",
       "TTYPE3  = 'GLAT    '           /                                                \n",
       "TTYPE4  = 'RA_J2000'           /                                                \n",
       "TTYPE5  = 'DEC_J2000'          /                                                \n",
       "TTYPE6  = 'ELON    '           /                                                \n",
       "TTYPE7  = 'ELAT    '           /                                                "
      ]
     },
     "execution_count": 6,
     "metadata": {},
     "output_type": "execute_result"
    }
   ],
   "source": [
    "hdulist2[1].header"
   ]
  },
  {
   "cell_type": "code",
   "execution_count": 7,
   "metadata": {
    "collapsed": false
   },
   "outputs": [
    {
     "name": "stdout",
     "output_type": "stream",
     "text": [
      "ColDefs(\n",
      "    name = 'TEMPERATURE'; format = 'E'; unit = 'K_CMB'\n",
      "    name = 'Q_POLARIZATION'; format = 'E'; unit = 'K_CMB'\n",
      "    name = 'U_POLARIZATION'; format = 'E'; unit = 'K_CMB'\n",
      ")\n",
      "(0.0031698239, 1.9594201e-05, -1.8488504e-06)\n"
     ]
    }
   ],
   "source": [
    "print hdulist1[1].columns\n",
    "print hdulist1[1].data[0]"
   ]
  },
  {
   "cell_type": "code",
   "execution_count": 8,
   "metadata": {
    "collapsed": false
   },
   "outputs": [
    {
     "name": "stdout",
     "output_type": "stream",
     "text": [
      "ColDefs(\n",
      "    name = 'PIXNUM'; format = 'J'\n",
      "    name = 'GLON'; format = 'D'\n",
      "    name = 'GLAT'; format = 'D'\n",
      "    name = 'RA_J2000'; format = 'D'\n",
      "    name = 'DEC_J2000'; format = 'D'\n",
      "    name = 'ELON'; format = 'D'\n",
      "    name = 'ELAT'; format = 'D'\n",
      ")\n",
      "(0, 45.0, 0.14920792779581404, 288.29303324362053, 10.792924914087711, 291.53773611464624, 32.874568057877504)\n"
     ]
    }
   ],
   "source": [
    "print hdulist2[1].columns\n",
    "print hdulist2[1].data[0]"
   ]
  },
  {
   "cell_type": "code",
   "execution_count": 9,
   "metadata": {
    "collapsed": false
   },
   "outputs": [
    {
     "data": {
      "text/plain": [
       "FITS_rec([( 0.00316982,   1.95942011e-05,  -1.84885039e-06),\n",
       "       ( 0.0031159 ,   2.00215927e-05,   2.13285603e-08),\n",
       "       ( 0.00275203,   1.82829390e-05,  -3.22038568e-06), ...,\n",
       "       ( 0.00265198,   2.30908572e-05,  -5.39131361e-06),\n",
       "       ( 0.00285171,   1.92052012e-05,  -4.28331532e-06),\n",
       "       ( 0.00277394,   2.41910766e-05,  -2.20624679e-06)], \n",
       "      dtype=(numpy.record, [('TEMPERATURE', '>f4'), ('Q_POLARIZATION', '>f4'), ('U_POLARIZATION', '>f4')]))"
      ]
     },
     "execution_count": 9,
     "metadata": {},
     "output_type": "execute_result"
    }
   ],
   "source": [
    "hdulist1[1].data[:]"
   ]
  },
  {
   "cell_type": "code",
   "execution_count": 10,
   "metadata": {
    "collapsed": false
   },
   "outputs": [
    {
     "data": {
      "text/plain": [
       "FITS_rec([ (     0,   45.        ,  0.14920793,  288.29303324,  10.79292491,  291.53773611,  32.87456806),\n",
       "       (     1,   45.17578125,  0.29841687,  288.24139154,  11.01784814,  291.517813  ,  33.10453026),\n",
       "       (     2,   44.82421875,  0.29841687,  288.07553968,  10.70629897,  291.27095024,  32.820466  ),\n",
       "       ...,\n",
       "       (786429,  315.17578125, -0.29841687,  218.54316017, -60.70446295,  238.58601966, -42.75486537),\n",
       "       (786430,  314.82421875, -0.29841687,  217.87750882, -60.83842998,  238.26279591, -43.01467883),\n",
       "       (786431,  315.        , -0.14920793,  218.09508128, -60.63385649,  238.27449673, -42.78426963)], \n",
       "      dtype=(numpy.record, [('PIXNUM', '>i4'), ('GLON', '>f8'), ('GLAT', '>f8'), ('RA_J2000', '>f8'), ('DEC_J2000', '>f8'), ('ELON', '>f8'), ('ELAT', '>f8')]))"
      ]
     },
     "execution_count": 10,
     "metadata": {},
     "output_type": "execute_result"
    }
   ],
   "source": [
    "hdulist2[1].data[:]"
   ]
  },
  {
   "cell_type": "code",
   "execution_count": 11,
   "metadata": {
    "collapsed": false
   },
   "outputs": [],
   "source": [
    "field = np.array(hdulist1[1].data.T)\n",
    "coords = np.array(hdulist2[1].data.T)"
   ]
  },
  {
   "cell_type": "code",
   "execution_count": 12,
   "metadata": {
    "collapsed": true
   },
   "outputs": [],
   "source": [
    "x = np.zeros(np.size(coords))\n",
    "y = np.zeros(np.size(coords))\n",
    "f = np.zeros(np.size(field))"
   ]
  },
  {
   "cell_type": "code",
   "execution_count": 13,
   "metadata": {
    "collapsed": true
   },
   "outputs": [],
   "source": [
    "for i in xrange(0, 786432):\n",
    "    x[i] = coords[i][1]\n",
    "    y[i] = coords[i][2]\n",
    "    f[i] = field[i][0] # T"
   ]
  },
  {
   "cell_type": "code",
   "execution_count": 14,
   "metadata": {
    "collapsed": true
   },
   "outputs": [],
   "source": [
    "unigue_x = sc.unique(x)\n",
    "unigue_y = sc.unique(y)"
   ]
  },
  {
   "cell_type": "code",
   "execution_count": 15,
   "metadata": {
    "collapsed": true
   },
   "outputs": [],
   "source": [
    "data_n = np.column_stack((x, y, f))\n",
    "data = pd.DataFrame(data_n, columns=['x', 'y', 'f'])"
   ]
  }
 ],
 "metadata": {
  "anaconda-cloud": {},
  "kernelspec": {
   "display_name": "Python [new2]",
   "language": "python",
   "name": "Python [new2]"
  },
  "language_info": {
   "codemirror_mode": {
    "name": "ipython",
    "version": 2
   },
   "file_extension": ".py",
   "mimetype": "text/x-python",
   "name": "python",
   "nbconvert_exporter": "python",
   "pygments_lexer": "ipython2",
   "version": "2.7.12"
  }
 },
 "nbformat": 4,
 "nbformat_minor": 0
}
